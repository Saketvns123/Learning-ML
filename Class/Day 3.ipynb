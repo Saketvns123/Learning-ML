{
 "cells": [
  {
   "cell_type": "code",
   "execution_count": 1,
   "id": "e1644f52",
   "metadata": {},
   "outputs": [
    {
     "name": "stdout",
     "output_type": "stream",
     "text": [
      "1\n",
      "2\n",
      "3\n",
      "4\n",
      "5\n",
      "6\n",
      "7\n",
      "8\n",
      "9\n"
     ]
    }
   ],
   "source": [
    "for i in range(1,10):\n",
    "    print(i)"
   ]
  },
  {
   "cell_type": "markdown",
   "id": "7dba12fb",
   "metadata": {},
   "source": [
    "# Lists"
   ]
  },
  {
   "cell_type": "code",
   "execution_count": 3,
   "id": "f98eb19f",
   "metadata": {},
   "outputs": [],
   "source": [
    "list=[]"
   ]
  },
  {
   "cell_type": "code",
   "execution_count": 4,
   "id": "31b8b288",
   "metadata": {},
   "outputs": [
    {
     "data": {
      "text/plain": [
       "[10]"
      ]
     },
     "execution_count": 4,
     "metadata": {},
     "output_type": "execute_result"
    }
   ],
   "source": [
    "list.append(10)\n",
    "list"
   ]
  },
  {
   "cell_type": "code",
   "execution_count": 5,
   "id": "2c66145e",
   "metadata": {},
   "outputs": [
    {
     "data": {
      "text/plain": [
       "[10, 20]"
      ]
     },
     "execution_count": 5,
     "metadata": {},
     "output_type": "execute_result"
    }
   ],
   "source": [
    "list.append(20)\n",
    "list"
   ]
  },
  {
   "cell_type": "code",
   "execution_count": 6,
   "id": "382653df",
   "metadata": {},
   "outputs": [
    {
     "data": {
      "text/plain": [
       "[10, 20, 'Innogeeks']"
      ]
     },
     "execution_count": 6,
     "metadata": {},
     "output_type": "execute_result"
    }
   ],
   "source": [
    "list.append(\"Innogeeks\")\n",
    "list"
   ]
  },
  {
   "cell_type": "code",
   "execution_count": 7,
   "id": "96691104",
   "metadata": {},
   "outputs": [
    {
     "data": {
      "text/plain": [
       "[10, 20, 30, 'Innogeeks']"
      ]
     },
     "execution_count": 7,
     "metadata": {},
     "output_type": "execute_result"
    }
   ],
   "source": [
    "list.insert(2,30)\n",
    "list"
   ]
  },
  {
   "cell_type": "code",
   "execution_count": 8,
   "id": "54c9481f",
   "metadata": {},
   "outputs": [
    {
     "data": {
      "text/plain": [
       "'Innogeeks'"
      ]
     },
     "execution_count": 8,
     "metadata": {},
     "output_type": "execute_result"
    }
   ],
   "source": [
    "#pop deletes the last element\n",
    "list.pop()"
   ]
  },
  {
   "cell_type": "code",
   "execution_count": 9,
   "id": "aa7c9fad",
   "metadata": {},
   "outputs": [
    {
     "data": {
      "text/plain": [
       "[10, 20, 30]"
      ]
     },
     "execution_count": 9,
     "metadata": {},
     "output_type": "execute_result"
    }
   ],
   "source": [
    "list"
   ]
  },
  {
   "cell_type": "code",
   "execution_count": 10,
   "id": "2ce4d58a",
   "metadata": {},
   "outputs": [
    {
     "data": {
      "text/plain": [
       "30"
      ]
     },
     "execution_count": 10,
     "metadata": {},
     "output_type": "execute_result"
    }
   ],
   "source": [
    "list.pop()"
   ]
  },
  {
   "cell_type": "code",
   "execution_count": 11,
   "id": "ecc2609e",
   "metadata": {},
   "outputs": [
    {
     "data": {
      "text/plain": [
       "[10, 20]"
      ]
     },
     "execution_count": 11,
     "metadata": {},
     "output_type": "execute_result"
    }
   ],
   "source": [
    "list"
   ]
  },
  {
   "cell_type": "code",
   "execution_count": 12,
   "id": "7d544cef",
   "metadata": {},
   "outputs": [],
   "source": [
    "list.append(40)\n",
    "list.append(\"innogeeks\")\n"
   ]
  },
  {
   "cell_type": "code",
   "execution_count": 13,
   "id": "268158b5",
   "metadata": {},
   "outputs": [
    {
     "data": {
      "text/plain": [
       "[10, 20, 40, 'innogeeks']"
      ]
     },
     "execution_count": 13,
     "metadata": {},
     "output_type": "execute_result"
    }
   ],
   "source": [
    "list"
   ]
  },
  {
   "cell_type": "code",
   "execution_count": 14,
   "id": "b5efbe28",
   "metadata": {},
   "outputs": [
    {
     "data": {
      "text/plain": [
       "40"
      ]
     },
     "execution_count": 14,
     "metadata": {},
     "output_type": "execute_result"
    }
   ],
   "source": [
    "#deletes the designated index(it starts from 0)\n",
    "list.pop(2)"
   ]
  },
  {
   "cell_type": "code",
   "execution_count": 15,
   "id": "f6d4f5d9",
   "metadata": {},
   "outputs": [
    {
     "data": {
      "text/plain": [
       "[10, 20, 'innogeeks']"
      ]
     },
     "execution_count": 15,
     "metadata": {},
     "output_type": "execute_result"
    }
   ],
   "source": [
    "list"
   ]
  },
  {
   "cell_type": "code",
   "execution_count": 54,
   "id": "7e001ada",
   "metadata": {},
   "outputs": [],
   "source": [
    "list.sort()"
   ]
  },
  {
   "cell_type": "code",
   "execution_count": 17,
   "id": "8c1fda9e",
   "metadata": {},
   "outputs": [
    {
     "data": {
      "text/plain": [
       "'innogeeks'"
      ]
     },
     "execution_count": 17,
     "metadata": {},
     "output_type": "execute_result"
    }
   ],
   "source": [
    "list.pop()"
   ]
  },
  {
   "cell_type": "code",
   "execution_count": 18,
   "id": "1ebcbd31",
   "metadata": {},
   "outputs": [
    {
     "data": {
      "text/plain": [
       "[10, 20, 45, 56, 5]"
      ]
     },
     "execution_count": 18,
     "metadata": {},
     "output_type": "execute_result"
    }
   ],
   "source": [
    "list.append(45)\n",
    "list.append(56)\n",
    "list.append(5)\n",
    "list"
   ]
  },
  {
   "cell_type": "code",
   "execution_count": 20,
   "id": "dd16098c",
   "metadata": {},
   "outputs": [],
   "source": [
    "list.sort()"
   ]
  },
  {
   "cell_type": "code",
   "execution_count": 21,
   "id": "b95eb298",
   "metadata": {},
   "outputs": [
    {
     "data": {
      "text/plain": [
       "[5, 10, 20, 45, 56]"
      ]
     },
     "execution_count": 21,
     "metadata": {},
     "output_type": "execute_result"
    }
   ],
   "source": [
    "list"
   ]
  },
  {
   "cell_type": "code",
   "execution_count": 22,
   "id": "4bbead4f",
   "metadata": {},
   "outputs": [
    {
     "data": {
      "text/plain": [
       "[56, 45, 20, 10, 5]"
      ]
     },
     "execution_count": 22,
     "metadata": {},
     "output_type": "execute_result"
    }
   ],
   "source": [
    "list.sort(reverse=True)\n",
    "list"
   ]
  },
  {
   "cell_type": "code",
   "execution_count": 23,
   "id": "39dc348d",
   "metadata": {},
   "outputs": [],
   "source": [
    "list2=[\"saket\",\"vishesh\",\"avanish\"]\n",
    "#sorts according to alphabet\n",
    "list2.sort()"
   ]
  },
  {
   "cell_type": "code",
   "execution_count": 24,
   "id": "34a441a5",
   "metadata": {},
   "outputs": [
    {
     "data": {
      "text/plain": [
       "['avanish', 'saket', 'vishesh']"
      ]
     },
     "execution_count": 24,
     "metadata": {},
     "output_type": "execute_result"
    }
   ],
   "source": [
    "list2"
   ]
  },
  {
   "cell_type": "code",
   "execution_count": 25,
   "id": "be3da69f",
   "metadata": {},
   "outputs": [],
   "source": [
    "#sorts according to length\n",
    "list2.sort(key=len)\n"
   ]
  },
  {
   "cell_type": "code",
   "execution_count": 27,
   "id": "e41920f4",
   "metadata": {},
   "outputs": [
    {
     "data": {
      "text/plain": [
       "['saket', 'avanish', 'vishesh']"
      ]
     },
     "execution_count": 27,
     "metadata": {},
     "output_type": "execute_result"
    }
   ],
   "source": [
    "list2"
   ]
  },
  {
   "cell_type": "code",
   "execution_count": 28,
   "id": "cb6dea99",
   "metadata": {},
   "outputs": [
    {
     "data": {
      "text/plain": [
       "[56, 45, 20, 10, 5, 'saket', 'avanish', 'vishesh']"
      ]
     },
     "execution_count": 28,
     "metadata": {},
     "output_type": "execute_result"
    }
   ],
   "source": [
    "list+list2"
   ]
  },
  {
   "cell_type": "code",
   "execution_count": 33,
   "id": "2ffc551c",
   "metadata": {},
   "outputs": [
    {
     "data": {
      "text/plain": [
       "[1, 4, 9, 16, 25, 36, 49, 64, 81, 100]"
      ]
     },
     "execution_count": 33,
     "metadata": {},
     "output_type": "execute_result"
    }
   ],
   "source": [
    "list3=[]\n",
    "for i in range(1,11):\n",
    "    list3.append(i**2)\n",
    "list3"
   ]
  },
  {
   "cell_type": "code",
   "execution_count": 34,
   "id": "e838a5cf",
   "metadata": {},
   "outputs": [
    {
     "data": {
      "text/plain": [
       "[1, 8, 27, 64, 125, 216, 343, 512, 729, 1000]"
      ]
     },
     "execution_count": 34,
     "metadata": {},
     "output_type": "execute_result"
    }
   ],
   "source": [
    "list3=[x**3 for x in range(1,11)]\n",
    "list3"
   ]
  },
  {
   "cell_type": "code",
   "execution_count": 35,
   "id": "51c3e1fa",
   "metadata": {},
   "outputs": [
    {
     "data": {
      "text/plain": [
       "[(1, 4), (1, 5), (1, 6), (2, 4), (2, 5), (2, 6), (3, 4), (3, 5), (3, 6)]"
      ]
     },
     "execution_count": 35,
     "metadata": {},
     "output_type": "execute_result"
    }
   ],
   "source": [
    "l1=[1,2,3]\n",
    "l2=[4,5,6]\n",
    "list=[]\n",
    "for i in l1:\n",
    "    for j in l2:\n",
    "        list.append((i,j))\n",
    "list        \n",
    "        \n"
   ]
  },
  {
   "cell_type": "code",
   "execution_count": 36,
   "id": "7a9a83b1",
   "metadata": {},
   "outputs": [
    {
     "data": {
      "text/plain": [
       "[(1, 4), (1, 5), (1, 6), (2, 4), (2, 5), (2, 6), (3, 4), (3, 5), (3, 6)]"
      ]
     },
     "execution_count": 36,
     "metadata": {},
     "output_type": "execute_result"
    }
   ],
   "source": [
    "list=[(x,y) for x in l1 for y in l2]\n",
    "list"
   ]
  },
  {
   "cell_type": "code",
   "execution_count": 37,
   "id": "ca967602",
   "metadata": {},
   "outputs": [
    {
     "data": {
      "text/plain": [
       "3"
      ]
     },
     "execution_count": 37,
     "metadata": {},
     "output_type": "execute_result"
    }
   ],
   "source": [
    "a=[[1,2,3],[4,5,6],[7,8,9]]\n",
    "len(a)"
   ]
  },
  {
   "cell_type": "code",
   "execution_count": 39,
   "id": "6a7b0193",
   "metadata": {},
   "outputs": [
    {
     "data": {
      "text/plain": [
       "2"
      ]
     },
     "execution_count": 39,
     "metadata": {},
     "output_type": "execute_result"
    }
   ],
   "source": [
    "a[0][1]"
   ]
  },
  {
   "cell_type": "markdown",
   "id": "7b2d1893",
   "metadata": {},
   "source": [
    "# Dictionary"
   ]
  },
  {
   "cell_type": "code",
   "execution_count": 40,
   "id": "01af1165",
   "metadata": {},
   "outputs": [],
   "source": [
    "dict={143:\"saket\",456:\"vishesh\"}"
   ]
  },
  {
   "cell_type": "code",
   "execution_count": 41,
   "id": "73cddbec",
   "metadata": {},
   "outputs": [
    {
     "data": {
      "text/plain": [
       "'vishesh'"
      ]
     },
     "execution_count": 41,
     "metadata": {},
     "output_type": "execute_result"
    }
   ],
   "source": [
    "dict[456]"
   ]
  },
  {
   "cell_type": "code",
   "execution_count": 42,
   "id": "e1b3d0e7",
   "metadata": {},
   "outputs": [
    {
     "data": {
      "text/plain": [
       "dict_keys([143, 456])"
      ]
     },
     "execution_count": 42,
     "metadata": {},
     "output_type": "execute_result"
    }
   ],
   "source": [
    "dict.keys()"
   ]
  },
  {
   "cell_type": "code",
   "execution_count": 43,
   "id": "fcb04f21",
   "metadata": {},
   "outputs": [
    {
     "data": {
      "text/plain": [
       "dict_items([(143, 'saket'), (456, 'vishesh')])"
      ]
     },
     "execution_count": 43,
     "metadata": {},
     "output_type": "execute_result"
    }
   ],
   "source": [
    "dict.items()"
   ]
  },
  {
   "cell_type": "code",
   "execution_count": 46,
   "id": "6ec772f6",
   "metadata": {},
   "outputs": [],
   "source": [
    "list1=[\"webd\",\"ML\",\"backend\",\"cloud\",\"c++\",\"python\",\"go\",\"rust\"]\n",
    "list2=[\"doctor\",\"engineer\",\"sci\",\"teacher\"]\n",
    "dict={\"kanishk\":list1,\"johny_sins\":list2}"
   ]
  },
  {
   "cell_type": "code",
   "execution_count": 47,
   "id": "8d6415a7",
   "metadata": {},
   "outputs": [
    {
     "data": {
      "text/plain": [
       "['webd', 'ML', 'backend', 'cloud', 'c++', 'python', 'go', 'rust']"
      ]
     },
     "execution_count": 47,
     "metadata": {},
     "output_type": "execute_result"
    }
   ],
   "source": [
    "dict[\"kanishk\"]"
   ]
  },
  {
   "cell_type": "code",
   "execution_count": 48,
   "id": "3ad859b5",
   "metadata": {},
   "outputs": [
    {
     "data": {
      "text/plain": [
       "['doctor', 'engineer', 'sci', 'teacher']"
      ]
     },
     "execution_count": 48,
     "metadata": {},
     "output_type": "execute_result"
    }
   ],
   "source": [
    "dict[\"johny_sins\"]"
   ]
  },
  {
   "cell_type": "code",
   "execution_count": 49,
   "id": "1a5eb14c",
   "metadata": {},
   "outputs": [],
   "source": [
    "dict={143:\"saket\", 456:\"vishesh\"}"
   ]
  },
  {
   "cell_type": "code",
   "execution_count": 52,
   "id": "9ad404af",
   "metadata": {},
   "outputs": [
    {
     "name": "stdout",
     "output_type": "stream",
     "text": [
      "143 saket\n",
      "456 vishesh\n"
     ]
    }
   ],
   "source": [
    "for keys,values in dict.items():\n",
    "    print(keys,values)"
   ]
  },
  {
   "cell_type": "raw",
   "id": "ba70fdb0",
   "metadata": {},
   "source": [
    "#string formatting"
   ]
  },
  {
   "cell_type": "code",
   "execution_count": 53,
   "id": "a35c1426",
   "metadata": {},
   "outputs": [
    {
     "name": "stdout",
     "output_type": "stream",
     "text": [
      "hello your age is 9\n"
     ]
    }
   ],
   "source": [
    "a=9\n",
    "print(f\"hello your age is {a}\")\n"
   ]
  },
  {
   "cell_type": "code",
   "execution_count": null,
   "id": "7a54a847",
   "metadata": {},
   "outputs": [],
   "source": []
  }
 ],
 "metadata": {
  "kernelspec": {
   "display_name": "Python 3 (ipykernel)",
   "language": "python",
   "name": "python3"
  },
  "language_info": {
   "codemirror_mode": {
    "name": "ipython",
    "version": 3
   },
   "file_extension": ".py",
   "mimetype": "text/x-python",
   "name": "python",
   "nbconvert_exporter": "python",
   "pygments_lexer": "ipython3",
   "version": "3.9.13"
  }
 },
 "nbformat": 4,
 "nbformat_minor": 5
}
