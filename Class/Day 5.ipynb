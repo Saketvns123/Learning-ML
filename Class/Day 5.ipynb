{
 "cells": [
  {
   "cell_type": "code",
   "execution_count": 4,
   "id": "5286aa17",
   "metadata": {},
   "outputs": [],
   "source": [
    "#to find whether a number is prime or not\n",
    "def div(a):\n",
    "    c=0\n",
    "    for i in range (2,a): \n",
    "        if a%i==0:\n",
    "            c=c+1\n",
    "    if c==0:\n",
    "        print(a,\" is a prime number\")\n",
    "    else:\n",
    "        print(a,\" is not a prime number\")\n",
    "            \n",
    "        "
   ]
  },
  {
   "cell_type": "code",
   "execution_count": 6,
   "id": "f02a750c",
   "metadata": {},
   "outputs": [
    {
     "name": "stdout",
     "output_type": "stream",
     "text": [
      "enter a number:    17\n",
      "17  is a prime number\n"
     ]
    }
   ],
   "source": [
    "a=int(input(\"enter a number:    \"))\n",
    "div(a)"
   ]
  },
  {
   "cell_type": "code",
   "execution_count": 11,
   "id": "80a5b67d",
   "metadata": {},
   "outputs": [],
   "source": [
    "#to find whether a number is prime or not\n",
    "def div(a):\n",
    "    c=0\n",
    "    for j in range (2,101): \n",
    "        for i in range (2,n):\n",
    "            if j%i==0:\n",
    "                c=c+1\n",
    "        if c==0:\n",
    "            print(a,\" is a prime number\")\n",
    "    "
   ]
  },
  {
   "cell_type": "code",
   "execution_count": null,
   "id": "898142c9",
   "metadata": {},
   "outputs": [],
   "source": []
  }
 ],
 "metadata": {
  "kernelspec": {
   "display_name": "Python 3 (ipykernel)",
   "language": "python",
   "name": "python3"
  },
  "language_info": {
   "codemirror_mode": {
    "name": "ipython",
    "version": 3
   },
   "file_extension": ".py",
   "mimetype": "text/x-python",
   "name": "python",
   "nbconvert_exporter": "python",
   "pygments_lexer": "ipython3",
   "version": "3.9.13"
  }
 },
 "nbformat": 4,
 "nbformat_minor": 5
}
