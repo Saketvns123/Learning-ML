{
 "cells": [
  {
   "cell_type": "code",
   "execution_count": 10,
   "id": "e9f46180",
   "metadata": {},
   "outputs": [
    {
     "name": "stdout",
     "output_type": "stream",
     "text": [
      "a is equal to b\n",
      "Machine Learning\n"
     ]
    }
   ],
   "source": [
    "a=23\n",
    "b=23\n",
    "#note the indentation\n",
    "#make sure to put colon\n",
    "#elif always comes in between\n",
    "if a<b:\n",
    "    print(\"a is smaller than b\")\n",
    "    print(\"Atificial Intelligence\")\n",
    "elif a==b:\n",
    "    print(\"a is equal to b\")    \n",
    "else:\n",
    "    print(\"a is greater than b\")\n",
    "\n",
    "    \n",
    "print (\"Machine Learning\")    "
   ]
  },
  {
   "cell_type": "code",
   "execution_count": 11,
   "id": "98e9f282",
   "metadata": {},
   "outputs": [
    {
     "name": "stdout",
     "output_type": "stream",
     "text": [
      "We are going right\n"
     ]
    }
   ],
   "source": [
    "#and\n",
    "a=200\n",
    "b=300\n",
    "c=300\n",
    "if a<b and b==c:\n",
    "    print(\"We are going right\")"
   ]
  },
  {
   "cell_type": "code",
   "execution_count": null,
   "id": "1b8cd10f",
   "metadata": {},
   "outputs": [],
   "source": [
    "x=input()\n",
    "x"
   ]
  },
  {
   "cell_type": "code",
   "execution_count": null,
   "id": "ae44b887",
   "metadata": {},
   "outputs": [],
   "source": [
    "if a>90:\n",
    "    print(\"more than 10\")\n",
    "    if(a>100):\n",
    "        print(\"above 100\")\n",
    "    else:\n",
    "        print(\"above 10 but less than 100\")\n",
    "            \n",
    "      "
   ]
  },
  {
   "cell_type": "code",
   "execution_count": null,
   "id": "7b593436",
   "metadata": {},
   "outputs": [],
   "source": [
    "x=input(\"First Value:\")\n",
    "y=input(\"Second Value:\")\n",
    "z=input(\"Third Value:\")\n",
    "If x>y and x>z:\n",
    "    print(\"x is the greatest number\")\n",
    "If y>x and y>z:\n",
    "    print(\"y is the greatest number\")\n",
    "If z>x and y>z:\n",
    "    print (\"z is the greatest number\")\n",
    "    "
   ]
  },
  {
   "cell_type": "code",
   "execution_count": null,
   "id": "21338ffd",
   "metadata": {},
   "outputs": [],
   "source": [
    "#print(\"worlds worst operating system in windows\")"
   ]
  },
  {
   "cell_type": "code",
   "execution_count": null,
   "id": "682b90ee",
   "metadata": {},
   "outputs": [],
   "source": [
    "#loops\n",
    "#while"
   ]
  },
  {
   "cell_type": "code",
   "execution_count": null,
   "id": "2702e873",
   "metadata": {},
   "outputs": [],
   "source": [
    "i+1"
   ]
  }
 ],
 "metadata": {
  "kernelspec": {
   "display_name": "Python 3 (ipykernel)",
   "language": "python",
   "name": "python3"
  },
  "language_info": {
   "codemirror_mode": {
    "name": "ipython",
    "version": 3
   },
   "file_extension": ".py",
   "mimetype": "text/x-python",
   "name": "python",
   "nbconvert_exporter": "python",
   "pygments_lexer": "ipython3",
   "version": "3.9.13"
  }
 },
 "nbformat": 4,
 "nbformat_minor": 5
}
