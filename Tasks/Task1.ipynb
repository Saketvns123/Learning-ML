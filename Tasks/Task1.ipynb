{
 "cells": [
  {
   "cell_type": "markdown",
   "id": "1b9474db",
   "metadata": {},
   "source": [
    "# Task 1"
   ]
  },
  {
   "cell_type": "markdown",
   "id": "28cf8264",
   "metadata": {},
   "source": [
    "1. Searching an element in an array\n",
    "2. Finding the largest no in an array\n",
    "3. Finding the smallest no in an array\n",
    "4. Reversing an array\n",
    "5. Rotating an array by kth position"
   ]
  },
  {
   "cell_type": "code",
   "execution_count": 1,
   "id": "a54e391c",
   "metadata": {},
   "outputs": [],
   "source": [
    "import numpy as np"
   ]
  },
  {
   "cell_type": "code",
   "execution_count": 2,
   "id": "1a9511e2",
   "metadata": {},
   "outputs": [],
   "source": [
    "# 1. Searching an element\n",
    "def search(arr,n,s):\n",
    "    for i in range(n):\n",
    "        if(arr[i]==s):\n",
    "            return i\n",
    "    return -1    "
   ]
  },
  {
   "cell_type": "code",
   "execution_count": 3,
   "id": "5d0ab9f4",
   "metadata": {},
   "outputs": [],
   "source": [
    "# 2. Finding the largest no in an array\n",
    "def findlarge(arr,n):\n",
    "    max= arr[0]\n",
    "    for i in arr:\n",
    "        if i>max:\n",
    "            max=i\n",
    "    return max    \n",
    "        \n",
    "    "
   ]
  },
  {
   "cell_type": "code",
   "execution_count": 4,
   "id": "273d61fb",
   "metadata": {},
   "outputs": [],
   "source": [
    "# 3. Finding the smallest no in an array\n",
    "def findsmall(arr,n):\n",
    "    min= arr[0]\n",
    "    for i in arr:\n",
    "        if i<min:\n",
    "            min=i\n",
    "    return min            \n"
   ]
  },
  {
   "cell_type": "code",
   "execution_count": 5,
   "id": "37b4ffaf",
   "metadata": {},
   "outputs": [],
   "source": [
    "# 4.Reversing an array\n",
    "def rev(arr,n):\n",
    "    return arr[:: -1]\n"
   ]
  },
  {
   "cell_type": "code",
   "execution_count": 6,
   "id": "8ec8ac8a",
   "metadata": {},
   "outputs": [],
   "source": [
    "# 5. Rotating an array by kth position\n",
    "def rotate(arr,n,k):\n",
    "    k=k%n\n",
    "    for i in range(k):\n",
    "        p=arr[n-1]\n",
    "        for j in range(n-1,0,-1):\n",
    "            arr[j]=arr[j-1]\n",
    "        arr[0]=p\n",
    "    return arr    "
   ]
  },
  {
   "cell_type": "code",
   "execution_count": 7,
   "id": "b99c42f2",
   "metadata": {},
   "outputs": [
    {
     "name": "stdout",
     "output_type": "stream",
     "text": [
      "Enter the size of array : 5\n",
      "Input 5 array elements :\n",
      "2\n",
      "5\n",
      "9\n",
      "6\n",
      "7\n"
     ]
    }
   ],
   "source": [
    "# 6. Initialise and input an array\n",
    "A= np.array([], dtype=\"i\")\n",
    "n=int(input('Enter the size of array : '))\n",
    "print ('Input', n , 'array elements :')\n",
    "for i in range(n):\n",
    "    A=np.append(A, int(input()))\n",
    "    \n",
    "    "
   ]
  },
  {
   "cell_type": "code",
   "execution_count": 10,
   "id": "3760373e",
   "metadata": {},
   "outputs": [
    {
     "name": "stdout",
     "output_type": "stream",
     "text": [
      "1.Search number\n",
      "2.Find largest number\n",
      "3.Find smallest number\n",
      "4.Reverse the array\n",
      "5.Rotate by k\n",
      "Input your choice- 5\n"
     ]
    }
   ],
   "source": [
    "# 7. Printing the operation menu\n",
    "\n",
    "print('1.Search number')\n",
    "print('2.Find largest number')\n",
    "print('3.Find smallest number')\n",
    "print('4.Reverse the array')\n",
    "print('5.Rotate by k')\n",
    "ch=int(input('Input your choice- '))\n"
   ]
  },
  {
   "cell_type": "code",
   "execution_count": 11,
   "id": "60fb0c35",
   "metadata": {},
   "outputs": [
    {
     "name": "stdout",
     "output_type": "stream",
     "text": [
      "Input the number of rotations: 3\n",
      "Rotated array: \n",
      "[9 6 7 2 5]\n"
     ]
    }
   ],
   "source": [
    "# 8. Calling the functions\n",
    "if ch==1:\n",
    "    s=int(input('Input a number to search'))\n",
    "    x=search(A,n,s)\n",
    "    if x!=-1:\n",
    "        print('Found at ', x+1)\n",
    "    else:\n",
    "        print('Not found')\n",
    "\n",
    "elif ch==2:\n",
    "    x=largest(A,n)\n",
    "    print('Largest number is: ', x)\n",
    "    \n",
    "elif ch==3:\n",
    "    x=smallest(A,n)\n",
    "    print('Smallest number is: ',x)\n",
    "    \n",
    "elif ch==4:\n",
    "    x=reverse(A,n)\n",
    "    print('Reversed array: ')\n",
    "    print(x)\n",
    "    \n",
    "elif ch==5:\n",
    "    k=int(input('Input the number of rotations: '))\n",
    "    x=rotate(A,n,k)\n",
    "    print('Rotated array: ')\n",
    "    print(x)    \n",
    "    \n",
    "else:\n",
    "    print('Invalid choice.')"
   ]
  },
  {
   "cell_type": "code",
   "execution_count": null,
   "id": "dc8f0171",
   "metadata": {},
   "outputs": [],
   "source": []
  }
 ],
 "metadata": {
  "kernelspec": {
   "display_name": "Python 3 (ipykernel)",
   "language": "python",
   "name": "python3"
  },
  "language_info": {
   "codemirror_mode": {
    "name": "ipython",
    "version": 3
   },
   "file_extension": ".py",
   "mimetype": "text/x-python",
   "name": "python",
   "nbconvert_exporter": "python",
   "pygments_lexer": "ipython3",
   "version": "3.9.13"
  }
 },
 "nbformat": 4,
 "nbformat_minor": 5
}
